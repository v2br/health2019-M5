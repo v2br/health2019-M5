# placeholder for the code 
#loading data from matlab file
#open dictionary and intial explore 
# separate wave files and properties
#introduce argumentation
#model properties
#model waves 
#possible models: LSTM. 
#conclusion
